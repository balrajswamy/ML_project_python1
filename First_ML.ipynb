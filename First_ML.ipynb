{
 "cells": [
  {
   "cell_type": "code",
   "execution_count": 25,
   "id": "9b54b1cb-ac42-448f-9e07-db2da2cb314b",
   "metadata": {},
   "outputs": [
    {
     "data": {
      "text/plain": [
       "'2.2.3'"
      ]
     },
     "execution_count": 25,
     "metadata": {},
     "output_type": "execute_result"
    }
   ],
   "source": [
    "import pandas as pd\n",
    "#used for splitting a dataset into training data and testing  data.\n",
    "from sklearn.model_selection import train_test_split \n",
    "\"\"\"\n",
    "##used for classification tasks. It builds a decision tree to predict the label of a given input based on \n",
    "#its features by learning simple decision rules inferred from the data\n",
    "\"\"\"\n",
    "from sklearn.tree import DecisionTreeClassifier \n",
    "pd.__version__\n"
   ]
  },
  {
   "cell_type": "code",
   "execution_count": 24,
   "id": "4da78ffc-c44b-49cd-b21c-2db53ca8f22b",
   "metadata": {},
   "outputs": [
    {
     "name": "stderr",
     "output_type": "stream",
     "text": [
      "C:\\CondaPython\\Lib\\site-packages\\sklearn\\base.py:493: UserWarning: X does not have valid feature names, but DecisionTreeClassifier was fitted with feature names\n",
      "  warnings.warn(\n"
     ]
    },
    {
     "data": {
      "text/plain": [
       "array(['Animation', 'Drama'], dtype=object)"
      ]
     },
     "execution_count": 24,
     "metadata": {},
     "output_type": "execute_result"
    }
   ],
   "source": [
    "movies_info = pd.read_csv(\"D:\\\\MLCourse\\\\LearningML\\\\MovieInterests.csv\")\n",
    "movies_info\n",
    "output_data_set  = movies_info[\"Interest\"]\n",
    "#output_data_set\n",
    "\n",
    "movies_info.columns\n",
    "input_data_set = movies_info[[\"Age\",\"Gender\"]]\n",
    "#input_data_set\n",
    "movie_model = DecisionTreeClassifier()\n",
    "movie_model.fit(input_data_set,output_data_set)\n",
    "output = movie_model.predict([[9,1],[33,0]]) # the arguments can be 2D arrays data\n",
    "output\n",
    "                            "
   ]
  },
  {
   "cell_type": "code",
   "execution_count": null,
   "id": "9b8e021e-21b6-4e56-bbe3-ffed7634b452",
   "metadata": {},
   "outputs": [],
   "source": []
  },
  {
   "cell_type": "code",
   "execution_count": null,
   "id": "d240ffdb-eebc-4796-a11f-e98e61f59814",
   "metadata": {},
   "outputs": [],
   "source": []
  }
 ],
 "metadata": {
  "kernelspec": {
   "display_name": "Python 3 (ipykernel)",
   "language": "python",
   "name": "python3"
  },
  "language_info": {
   "codemirror_mode": {
    "name": "ipython",
    "version": 3
   },
   "file_extension": ".py",
   "mimetype": "text/x-python",
   "name": "python",
   "nbconvert_exporter": "python",
   "pygments_lexer": "ipython3",
   "version": "3.12.4"
  }
 },
 "nbformat": 4,
 "nbformat_minor": 5
}
