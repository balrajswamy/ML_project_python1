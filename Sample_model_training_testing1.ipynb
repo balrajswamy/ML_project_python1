{
 "cells": [
  {
   "cell_type": "code",
   "execution_count": 6,
   "id": "71f5d1c6-642c-418f-8932-2a1662253f5f",
   "metadata": {},
   "outputs": [
    {
     "name": "stdout",
     "output_type": "stream",
     "text": [
      "accuracy status =>  1.0\n"
     ]
    }
   ],
   "source": [
    "import pandas as pd\n",
    "#used for splitting a dataset into training data and testing  data.\n",
    "from sklearn.model_selection import train_test_split \n",
    "\"\"\"\n",
    "##used for classification tasks. It builds a decision tree to predict the label of a given input based on \n",
    "#its features by learning simple decision rules inferred from the data\n",
    "\"\"\"\n",
    "from sklearn.tree import DecisionTreeClassifier \n",
    "from sklearn.metrics import accuracy_score\n",
    "\n",
    "movies_info = pd.read_csv(\"D:\\\\MLCourse\\\\LearningML\\\\MovieInterests.csv\")\n",
    "movies_info\n",
    "output_data_set  = movies_info[\"Interest\"]\n",
    "\n",
    "\n",
    "movies_info.columns\n",
    "input_data_set = movies_info[[\"Age\",\"Gender\"]]\n",
    "input_data_set_train,input_data_set_test,output_data_set_train,output_data_set_test= train_test_split(input_data_set,output_data_set,test_size=0.2)\n",
    "movie_model = DecisionTreeClassifier()\n",
    "movie_model.fit(input_data_set_train,output_data_set_train)\n",
    "movie_interest = movie_model.predict(input_data_set_test) # the arguments can be 2D arrays data\n",
    "accuracy_skores = accuracy_score(output_data_set_test, movie_interest)\n",
    "print(\"accuracy status => \", accuracy_skores)"
   ]
  },
  {
   "cell_type": "code",
   "execution_count": null,
   "id": "1de0104e-b710-42cf-a40e-9691a4ada472",
   "metadata": {},
   "outputs": [],
   "source": []
  },
  {
   "cell_type": "code",
   "execution_count": null,
   "id": "6de3f4ae-4d4b-4d60-805e-4ef19d7c878e",
   "metadata": {},
   "outputs": [],
   "source": []
  },
  {
   "cell_type": "code",
   "execution_count": null,
   "id": "eeeefb02-4420-453e-9f0c-333130db72b8",
   "metadata": {},
   "outputs": [],
   "source": []
  }
 ],
 "metadata": {
  "kernelspec": {
   "display_name": "Python 3 (ipykernel)",
   "language": "python",
   "name": "python3"
  },
  "language_info": {
   "codemirror_mode": {
    "name": "ipython",
    "version": 3
   },
   "file_extension": ".py",
   "mimetype": "text/x-python",
   "name": "python",
   "nbconvert_exporter": "python",
   "pygments_lexer": "ipython3",
   "version": "3.12.4"
  }
 },
 "nbformat": 4,
 "nbformat_minor": 5
}
