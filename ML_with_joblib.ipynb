{
 "cells": [
  {
   "cell_type": "code",
   "execution_count": 5,
   "id": "4b2bb994-c750-4c60-910a-ffdcd83ee2fd",
   "metadata": {},
   "outputs": [
    {
     "name": "stdout",
     "output_type": "stream",
     "text": [
      "Index(['Age', 'Gender', 'Interest'], dtype='object')\n"
     ]
    },
    {
     "name": "stderr",
     "output_type": "stream",
     "text": [
      "C:\\CondaPython\\Lib\\site-packages\\sklearn\\base.py:493: UserWarning: X does not have valid feature names, but DecisionTreeClassifier was fitted with feature names\n",
      "  warnings.warn(\n"
     ]
    },
    {
     "data": {
      "text/plain": [
       "array(['Animation', 'Drama'], dtype=object)"
      ]
     },
     "execution_count": 5,
     "metadata": {},
     "output_type": "execute_result"
    }
   ],
   "source": [
    "import pandas as pd\n",
    "from sklearn.model_selection import train_test_split\n",
    "from sklearn.tree import DecisionTreeClassifier \n",
    "from sklearn.metrics import accuracy_score\n",
    "import joblib\n",
    "\n",
    "movies_info = pd.read_csv(\"D:\\\\MLCourse\\\\LearningML\\\\MovieInterests.csv\")\n",
    "print(movies_info.columns)\n",
    "input_data_set = movies_info[[\"Age\",\"Gender\"]]\n",
    "output_data_set  = movies_info[\"Interest\"]\n",
    "\n",
    "movie_model = DecisionTreeClassifier()\n",
    "movie_model.fit(input_data_set,output_data_set)\n",
    "#output = movie_model.predict([[9,1],[33,0]]) # the arguments can be 2D arrays data\n",
    "joblib.dump(movie_model,\"Movies_interest_Identifier\")\n",
    "model_movie_interest = joblib.load(\"Movies_interest_Identifier\")\n",
    "movie_interest = model_movie_interest.predict([[9,1],[33,0]])\n",
    "movie_interest"
   ]
  },
  {
   "cell_type": "code",
   "execution_count": null,
   "id": "082ac376-5859-499a-9e7e-a1852f2de25e",
   "metadata": {},
   "outputs": [],
   "source": []
  }
 ],
 "metadata": {
  "kernelspec": {
   "display_name": "Python 3 (ipykernel)",
   "language": "python",
   "name": "python3"
  },
  "language_info": {
   "codemirror_mode": {
    "name": "ipython",
    "version": 3
   },
   "file_extension": ".py",
   "mimetype": "text/x-python",
   "name": "python",
   "nbconvert_exporter": "python",
   "pygments_lexer": "ipython3",
   "version": "3.12.4"
  }
 },
 "nbformat": 4,
 "nbformat_minor": 5
}
